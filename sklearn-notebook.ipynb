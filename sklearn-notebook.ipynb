{
 "cells": [
  {
   "cell_type": "markdown",
   "metadata": {},
   "source": [
    "# Text Classification with SciKit Learn\n",
    "\n",
    "## Resources\n",
    "- http://scikit-learn.org/stable/tutorial/text_analytics/working_with_text_data.html\n",
    "- https://towardsdatascience.com/machine-learning-nlp-text-classification-using-scikit-learn-python-and-nltk-c52b92a7c73a\n"
   ]
  },
  {
   "cell_type": "code",
   "execution_count": 35,
   "metadata": {},
   "outputs": [
    {
     "name": "stdout",
     "output_type": "stream",
     "text": [
      "File: C:\\Users\\Owner\\Projects\\ml-review-classification\\sorted_data\\software\\all.review\n",
      "Lines: 93808\n",
      "\n"
     ]
    },
    {
     "name": "stderr",
     "output_type": "stream",
     "text": [
      "100%|█████████████████████████████████| 93808/93808 [00:01<00:00, 91604.13it/s]\n"
     ]
    },
    {
     "name": "stdout",
     "output_type": "stream",
     "text": [
      "Reviews: 2390\n",
      "\n"
     ]
    }
   ],
   "source": [
    "import mdsd \n",
    "from pathlib import Path\n",
    "import numpy\n",
    "\n",
    "file = Path(\"../sorted_data/software/all.review\")\n",
    "\n",
    "# sklearn uses slight different structures\n",
    "data        = mdsd.parse_file(file)\n",
    "targets     = numpy.array(list(map(lambda x: x['rating'], data)))\n",
    "review_text = list(map(lambda x: x['text'], data))"
   ]
  },
  {
   "cell_type": "code",
   "execution_count": 36,
   "metadata": {},
   "outputs": [
    {
     "name": "stdout",
     "output_type": "stream",
     "text": [
      "Be advised, this Software is for a SINGLE USER, only licensed for one computer. I bought this for Home use after using SS% for 2 years and V-Com said it would no longer be supported of 03/06. I installed it on 2 home computers, it worked fine for 4 weeks, then it popped up a Box on my second computer that I couls not use it because it was licensed on another computer, I needed to buy additional license for each computer. When I tried to use it on my Main computer, it popped up the same message. So now it will not work on either computer. I uninstalled it and sent it back. Just because it's Cheap does not mean it's any good\n",
      "\n",
      "1\n"
     ]
    }
   ],
   "source": [
    "# Seperate into train and test \n",
    "\n",
    "from sklearn.model_selection import train_test_split\n",
    "\n",
    "review_train, review_test, target_train, target_test = train_test_split(review_text, targets, test_size=0.10)\n",
    "\n",
    "print(review_train[0])\n",
    "print(target_train[0])"
   ]
  },
  {
   "cell_type": "code",
   "execution_count": 37,
   "metadata": {},
   "outputs": [
    {
     "data": {
      "text/plain": [
       "(2151, 11703)"
      ]
     },
     "execution_count": 37,
     "metadata": {},
     "output_type": "execute_result"
    }
   ],
   "source": [
    "from sklearn.feature_extraction.text import CountVectorizer\n",
    "\n",
    "count_vect     = CountVectorizer()\n",
    "X_train_counts = count_vect.fit_transform(review_train)\n",
    "\n",
    "X_train_counts.shape"
   ]
  },
  {
   "cell_type": "markdown",
   "metadata": {},
   "source": [
    "## From occurrences to frequencies\n",
    "\n",
    "Occurrence count is a good start but there is an issue: longer documents will have higher average count values than shorter documents, even though they might talk about the same topics.\n",
    "\n",
    "To avoid these potential discrepancies it suffices to divide the number of occurrences of each word in a document by the total number of words in the document: these new features are called tf for Term Frequencies.\n",
    "\n",
    "Another refinement on top of tf is to downscale weights for words that occur in many documents in the corpus and are therefore less informative than those that occur only in a smaller portion of the corpus.\n",
    "\n",
    "This downscaling is called tf–idf for “Term Frequency times Inverse Document Frequency”."
   ]
  },
  {
   "cell_type": "code",
   "execution_count": 38,
   "metadata": {},
   "outputs": [
    {
     "data": {
      "text/plain": [
       "(2151, 11703)"
      ]
     },
     "execution_count": 38,
     "metadata": {},
     "output_type": "execute_result"
    }
   ],
   "source": [
    "from sklearn.feature_extraction.text import TfidfTransformer\n",
    "\n",
    "tfidf_transformer = TfidfTransformer()\n",
    "X_train_tfidf     = tfidf_transformer.fit_transform(X_train_counts)\n",
    "\n",
    "X_train_tfidf.shape"
   ]
  },
  {
   "cell_type": "markdown",
   "metadata": {},
   "source": [
    "## Training a classifier"
   ]
  },
  {
   "cell_type": "code",
   "execution_count": 39,
   "metadata": {},
   "outputs": [],
   "source": [
    "from sklearn.naive_bayes import MultinomialNB\n",
    "\n",
    "clf = MultinomialNB().fit(X_train_tfidf, target_train)"
   ]
  },
  {
   "cell_type": "markdown",
   "metadata": {},
   "source": [
    "## Evaluation of classifier"
   ]
  },
  {
   "cell_type": "code",
   "execution_count": 40,
   "metadata": {},
   "outputs": [
    {
     "name": "stdout",
     "output_type": "stream",
     "text": [
      "Accuracy: 55.23%\n"
     ]
    }
   ],
   "source": [
    "import numpy as np\n",
    "\n",
    "x_test_counts = count_vect.transform(review_test)\n",
    "x_test_tfidf  = tfidf_transformer.transform(x_test_counts)\n",
    "score         = round(clf.score(x_test_tfidf, target_test) * 100, 3)\n",
    "\n",
    "print('Accuracy: {}%'.format(score))"
   ]
  },
  {
   "cell_type": "markdown",
   "metadata": {},
   "source": [
    "## [Linear Support Vector Machine (SVM)](http://scikit-learn.org/stable/modules/svm.html#svm)\n",
    "\n",
    "Widely regarded as one of the best text classification algorithms (although it’s also a bit slower than naïve Bayes)."
   ]
  },
  {
   "cell_type": "code",
   "execution_count": 47,
   "metadata": {},
   "outputs": [
    {
     "name": "stdout",
     "output_type": "stream",
     "text": [
      "Accuracy: 66.527%\n"
     ]
    }
   ],
   "source": [
    "from sklearn.linear_model import SGDClassifier\n",
    "\n",
    "svm_clf = SGDClassifier(max_iter=10, tol=None)\n",
    "svm_clf.fit(X_train_tfidf, target_train)\n",
    "\n",
    "score = round(svm_clf.score(x_test_tfidf, target_test) * 100, 3)\n",
    "print('Accuracy: {}%'.format(score))"
   ]
  }
 ],
 "metadata": {
  "kernelspec": {
   "display_name": "Python 3",
   "language": "python",
   "name": "python3"
  },
  "language_info": {
   "codemirror_mode": {
    "name": "ipython",
    "version": 3
   },
   "file_extension": ".py",
   "mimetype": "text/x-python",
   "name": "python",
   "nbconvert_exporter": "python",
   "pygments_lexer": "ipython3",
   "version": "3.6.5"
  }
 },
 "nbformat": 4,
 "nbformat_minor": 2
}
